{
 "cells": [
  {
   "cell_type": "markdown",
   "id": "1f2d41da-5bd4-4822-8677-daa5aced2f23",
   "metadata": {},
   "source": [
    "### **Using the Titanic Dataset**"
   ]
  },
  {
   "cell_type": "markdown",
   "id": "8d6db7f2-da74-4c9a-8462-5efbf64c57b8",
   "metadata": {},
   "source": [
    "### **Step 1 : Load the Data**"
   ]
  },
  {
   "cell_type": "code",
   "execution_count": 3,
   "id": "e05b3ced-0d09-4086-bc75-11773b18a72f",
   "metadata": {},
   "outputs": [
    {
     "data": {
      "text/html": [
       "<div>\n",
       "<style scoped>\n",
       "    .dataframe tbody tr th:only-of-type {\n",
       "        vertical-align: middle;\n",
       "    }\n",
       "\n",
       "    .dataframe tbody tr th {\n",
       "        vertical-align: top;\n",
       "    }\n",
       "\n",
       "    .dataframe thead th {\n",
       "        text-align: right;\n",
       "    }\n",
       "</style>\n",
       "<table border=\"1\" class=\"dataframe\">\n",
       "  <thead>\n",
       "    <tr style=\"text-align: right;\">\n",
       "      <th></th>\n",
       "      <th>PassengerId</th>\n",
       "      <th>Survived</th>\n",
       "      <th>Pclass</th>\n",
       "      <th>Name</th>\n",
       "      <th>Sex</th>\n",
       "      <th>Age</th>\n",
       "      <th>SibSp</th>\n",
       "      <th>Parch</th>\n",
       "      <th>Ticket</th>\n",
       "      <th>Fare</th>\n",
       "      <th>Cabin</th>\n",
       "      <th>Embarked</th>\n",
       "    </tr>\n",
       "  </thead>\n",
       "  <tbody>\n",
       "    <tr>\n",
       "      <th>0</th>\n",
       "      <td>1</td>\n",
       "      <td>0</td>\n",
       "      <td>3</td>\n",
       "      <td>Braund, Mr. Owen Harris</td>\n",
       "      <td>male</td>\n",
       "      <td>22.0</td>\n",
       "      <td>1</td>\n",
       "      <td>0</td>\n",
       "      <td>A/5 21171</td>\n",
       "      <td>7.2500</td>\n",
       "      <td>NaN</td>\n",
       "      <td>S</td>\n",
       "    </tr>\n",
       "    <tr>\n",
       "      <th>1</th>\n",
       "      <td>2</td>\n",
       "      <td>1</td>\n",
       "      <td>1</td>\n",
       "      <td>Cumings, Mrs. John Bradley (Florence Briggs Th...</td>\n",
       "      <td>female</td>\n",
       "      <td>38.0</td>\n",
       "      <td>1</td>\n",
       "      <td>0</td>\n",
       "      <td>PC 17599</td>\n",
       "      <td>71.2833</td>\n",
       "      <td>C85</td>\n",
       "      <td>C</td>\n",
       "    </tr>\n",
       "    <tr>\n",
       "      <th>2</th>\n",
       "      <td>3</td>\n",
       "      <td>1</td>\n",
       "      <td>3</td>\n",
       "      <td>Heikkinen, Miss. Laina</td>\n",
       "      <td>female</td>\n",
       "      <td>26.0</td>\n",
       "      <td>0</td>\n",
       "      <td>0</td>\n",
       "      <td>STON/O2. 3101282</td>\n",
       "      <td>7.9250</td>\n",
       "      <td>NaN</td>\n",
       "      <td>S</td>\n",
       "    </tr>\n",
       "    <tr>\n",
       "      <th>3</th>\n",
       "      <td>4</td>\n",
       "      <td>1</td>\n",
       "      <td>1</td>\n",
       "      <td>Futrelle, Mrs. Jacques Heath (Lily May Peel)</td>\n",
       "      <td>female</td>\n",
       "      <td>35.0</td>\n",
       "      <td>1</td>\n",
       "      <td>0</td>\n",
       "      <td>113803</td>\n",
       "      <td>53.1000</td>\n",
       "      <td>C123</td>\n",
       "      <td>S</td>\n",
       "    </tr>\n",
       "    <tr>\n",
       "      <th>4</th>\n",
       "      <td>5</td>\n",
       "      <td>0</td>\n",
       "      <td>3</td>\n",
       "      <td>Allen, Mr. William Henry</td>\n",
       "      <td>male</td>\n",
       "      <td>35.0</td>\n",
       "      <td>0</td>\n",
       "      <td>0</td>\n",
       "      <td>373450</td>\n",
       "      <td>8.0500</td>\n",
       "      <td>NaN</td>\n",
       "      <td>S</td>\n",
       "    </tr>\n",
       "  </tbody>\n",
       "</table>\n",
       "</div>"
      ],
      "text/plain": [
       "   PassengerId  Survived  Pclass  \\\n",
       "0            1         0       3   \n",
       "1            2         1       1   \n",
       "2            3         1       3   \n",
       "3            4         1       1   \n",
       "4            5         0       3   \n",
       "\n",
       "                                                Name     Sex   Age  SibSp  \\\n",
       "0                            Braund, Mr. Owen Harris    male  22.0      1   \n",
       "1  Cumings, Mrs. John Bradley (Florence Briggs Th...  female  38.0      1   \n",
       "2                             Heikkinen, Miss. Laina  female  26.0      0   \n",
       "3       Futrelle, Mrs. Jacques Heath (Lily May Peel)  female  35.0      1   \n",
       "4                           Allen, Mr. William Henry    male  35.0      0   \n",
       "\n",
       "   Parch            Ticket     Fare Cabin Embarked  \n",
       "0      0         A/5 21171   7.2500   NaN        S  \n",
       "1      0          PC 17599  71.2833   C85        C  \n",
       "2      0  STON/O2. 3101282   7.9250   NaN        S  \n",
       "3      0            113803  53.1000  C123        S  \n",
       "4      0            373450   8.0500   NaN        S  "
      ]
     },
     "execution_count": 3,
     "metadata": {},
     "output_type": "execute_result"
    }
   ],
   "source": [
    "import pandas as pd\n",
    "\n",
    "# load the dataset\n",
    "train = pd.read_csv(\"C:\\\\Users\\\\Admin\\\\Downloads\\\\train.csv\")\n",
    "test = pd.read_csv(\"C:\\\\Users\\\\Admin\\\\Downloads\\\\test.csv\")\n",
    "gender_submission = pd.read_csv(\"C:\\\\Users\\\\Admin\\\\Downloads\\\\gender_submission.csv\")\n",
    "\n",
    "# Create a copy of original 'train' dataset\n",
    "original_train = train.copy()\n",
    "\n",
    "# Display the first few rows of train dataset to understand the structure\n",
    "train.head()"
   ]
  },
  {
   "cell_type": "markdown",
   "id": "e3abb8fc-9142-4295-a678-2e78c4219067",
   "metadata": {},
   "source": [
    "### **Step 2 : Explore the Data**"
   ]
  },
  {
   "cell_type": "code",
   "execution_count": 5,
   "id": "dd55b8a9-0027-447d-b8e5-cb615fed196a",
   "metadata": {},
   "outputs": [
    {
     "name": "stdout",
     "output_type": "stream",
     "text": [
      "<class 'pandas.core.frame.DataFrame'>\n",
      "RangeIndex: 891 entries, 0 to 890\n",
      "Data columns (total 12 columns):\n",
      " #   Column       Non-Null Count  Dtype  \n",
      "---  ------       --------------  -----  \n",
      " 0   PassengerId  891 non-null    int64  \n",
      " 1   Survived     891 non-null    int64  \n",
      " 2   Pclass       891 non-null    int64  \n",
      " 3   Name         891 non-null    object \n",
      " 4   Sex          891 non-null    object \n",
      " 5   Age          714 non-null    float64\n",
      " 6   SibSp        891 non-null    int64  \n",
      " 7   Parch        891 non-null    int64  \n",
      " 8   Ticket       891 non-null    object \n",
      " 9   Fare         891 non-null    float64\n",
      " 10  Cabin        204 non-null    object \n",
      " 11  Embarked     889 non-null    object \n",
      "dtypes: float64(2), int64(5), object(5)\n",
      "memory usage: 83.7+ KB\n"
     ]
    },
    {
     "data": {
      "text/html": [
       "<div>\n",
       "<style scoped>\n",
       "    .dataframe tbody tr th:only-of-type {\n",
       "        vertical-align: middle;\n",
       "    }\n",
       "\n",
       "    .dataframe tbody tr th {\n",
       "        vertical-align: top;\n",
       "    }\n",
       "\n",
       "    .dataframe thead th {\n",
       "        text-align: right;\n",
       "    }\n",
       "</style>\n",
       "<table border=\"1\" class=\"dataframe\">\n",
       "  <thead>\n",
       "    <tr style=\"text-align: right;\">\n",
       "      <th></th>\n",
       "      <th>PassengerId</th>\n",
       "      <th>Survived</th>\n",
       "      <th>Pclass</th>\n",
       "      <th>Age</th>\n",
       "      <th>SibSp</th>\n",
       "      <th>Parch</th>\n",
       "      <th>Fare</th>\n",
       "    </tr>\n",
       "  </thead>\n",
       "  <tbody>\n",
       "    <tr>\n",
       "      <th>count</th>\n",
       "      <td>891.000000</td>\n",
       "      <td>891.000000</td>\n",
       "      <td>891.000000</td>\n",
       "      <td>714.000000</td>\n",
       "      <td>891.000000</td>\n",
       "      <td>891.000000</td>\n",
       "      <td>891.000000</td>\n",
       "    </tr>\n",
       "    <tr>\n",
       "      <th>mean</th>\n",
       "      <td>446.000000</td>\n",
       "      <td>0.383838</td>\n",
       "      <td>2.308642</td>\n",
       "      <td>29.699118</td>\n",
       "      <td>0.523008</td>\n",
       "      <td>0.381594</td>\n",
       "      <td>32.204208</td>\n",
       "    </tr>\n",
       "    <tr>\n",
       "      <th>std</th>\n",
       "      <td>257.353842</td>\n",
       "      <td>0.486592</td>\n",
       "      <td>0.836071</td>\n",
       "      <td>14.526497</td>\n",
       "      <td>1.102743</td>\n",
       "      <td>0.806057</td>\n",
       "      <td>49.693429</td>\n",
       "    </tr>\n",
       "    <tr>\n",
       "      <th>min</th>\n",
       "      <td>1.000000</td>\n",
       "      <td>0.000000</td>\n",
       "      <td>1.000000</td>\n",
       "      <td>0.420000</td>\n",
       "      <td>0.000000</td>\n",
       "      <td>0.000000</td>\n",
       "      <td>0.000000</td>\n",
       "    </tr>\n",
       "    <tr>\n",
       "      <th>25%</th>\n",
       "      <td>223.500000</td>\n",
       "      <td>0.000000</td>\n",
       "      <td>2.000000</td>\n",
       "      <td>20.125000</td>\n",
       "      <td>0.000000</td>\n",
       "      <td>0.000000</td>\n",
       "      <td>7.910400</td>\n",
       "    </tr>\n",
       "    <tr>\n",
       "      <th>50%</th>\n",
       "      <td>446.000000</td>\n",
       "      <td>0.000000</td>\n",
       "      <td>3.000000</td>\n",
       "      <td>28.000000</td>\n",
       "      <td>0.000000</td>\n",
       "      <td>0.000000</td>\n",
       "      <td>14.454200</td>\n",
       "    </tr>\n",
       "    <tr>\n",
       "      <th>75%</th>\n",
       "      <td>668.500000</td>\n",
       "      <td>1.000000</td>\n",
       "      <td>3.000000</td>\n",
       "      <td>38.000000</td>\n",
       "      <td>1.000000</td>\n",
       "      <td>0.000000</td>\n",
       "      <td>31.000000</td>\n",
       "    </tr>\n",
       "    <tr>\n",
       "      <th>max</th>\n",
       "      <td>891.000000</td>\n",
       "      <td>1.000000</td>\n",
       "      <td>3.000000</td>\n",
       "      <td>80.000000</td>\n",
       "      <td>8.000000</td>\n",
       "      <td>6.000000</td>\n",
       "      <td>512.329200</td>\n",
       "    </tr>\n",
       "  </tbody>\n",
       "</table>\n",
       "</div>"
      ],
      "text/plain": [
       "       PassengerId    Survived      Pclass         Age       SibSp  \\\n",
       "count   891.000000  891.000000  891.000000  714.000000  891.000000   \n",
       "mean    446.000000    0.383838    2.308642   29.699118    0.523008   \n",
       "std     257.353842    0.486592    0.836071   14.526497    1.102743   \n",
       "min       1.000000    0.000000    1.000000    0.420000    0.000000   \n",
       "25%     223.500000    0.000000    2.000000   20.125000    0.000000   \n",
       "50%     446.000000    0.000000    3.000000   28.000000    0.000000   \n",
       "75%     668.500000    1.000000    3.000000   38.000000    1.000000   \n",
       "max     891.000000    1.000000    3.000000   80.000000    8.000000   \n",
       "\n",
       "            Parch        Fare  \n",
       "count  891.000000  891.000000  \n",
       "mean     0.381594   32.204208  \n",
       "std      0.806057   49.693429  \n",
       "min      0.000000    0.000000  \n",
       "25%      0.000000    7.910400  \n",
       "50%      0.000000   14.454200  \n",
       "75%      0.000000   31.000000  \n",
       "max      6.000000  512.329200  "
      ]
     },
     "execution_count": 5,
     "metadata": {},
     "output_type": "execute_result"
    }
   ],
   "source": [
    "# Check the structure of the train dataset\n",
    "train.info()\n",
    "\n",
    "# Check for missing values\n",
    "train.isnull().sum()\n",
    "\n",
    "# Describe the dataset (summary statistics)\n",
    "train.describe()"
   ]
  },
  {
   "cell_type": "markdown",
   "id": "ca97f99d-633a-475f-9d51-2a6fda6001fe",
   "metadata": {},
   "source": [
    "### **Step 3 : Data Cleaning & Preprocessing**"
   ]
  },
  {
   "cell_type": "markdown",
   "id": "53becd01-8b97-482f-a077-31e32e93fae7",
   "metadata": {},
   "source": [
    "#### **3.1 : Handle Missing values**"
   ]
  },
  {
   "cell_type": "code",
   "execution_count": 8,
   "id": "e8b75fef-7f07-4325-bab6-955290418d94",
   "metadata": {},
   "outputs": [],
   "source": [
    "# Fill missing 'Age' with mean\n",
    "train['Age'] = train['Age'].fillna(train['Age'].mean())\n",
    "\n",
    "# Fill missing 'Embarked' with the most frequent value (mode)\n",
    "train['Embarked'] = train['Embarked'].fillna(train['Embarked'].mode()[0])\n",
    "\n",
    "# Drop 'Cabin' column due to too many missing values\n",
    "train = train.drop(columns = ['Cabin'])"
   ]
  },
  {
   "cell_type": "markdown",
   "id": "00187b3f-13f3-499b-88df-77bc98a61884",
   "metadata": {},
   "source": [
    "#### **3.2 : Convert Categorical columns**\n",
    "##### **- We need to convert categorial variables like 'Sex' and 'Embarked' into numeric values.**\n",
    "##### **- This can be done with encoding techniques like Label Encoding or One-hot encoding.**"
   ]
  },
  {
   "cell_type": "code",
   "execution_count": 10,
   "id": "51893e30-5243-43ba-8cd5-0d99fba0319e",
   "metadata": {},
   "outputs": [],
   "source": [
    "# Convert 'Sex' into a numeric variable (1 for male, 0 for female)\n",
    "train['Sex'] = train['Sex'].map({'male' : 1, 'female' : 0})\n",
    "\n",
    "# One-hot encode 'Embarked' using pandas get_dummies\n",
    "train = pd.get_dummies(train, columns = ['Embarked'], drop_first = True)"
   ]
  },
  {
   "cell_type": "markdown",
   "id": "371f40bb-d65b-403e-95a9-a9c9f2fe8e39",
   "metadata": {},
   "source": [
    "#### **3.3 : Feature Engineering**\n",
    "##### **- Creating additional feature : Family Size : Combining 'SibSp' (siblings/spouses) and 'Parch' (parents/children) to create a FamilySize feature.**"
   ]
  },
  {
   "cell_type": "code",
   "execution_count": 12,
   "id": "19aebabd-86a1-4fb2-82bc-c57a6c92700b",
   "metadata": {},
   "outputs": [],
   "source": [
    "# Create a new feature 'FamilySize' \n",
    "train['FamilySize'] = train['SibSp'] + train['Parch'] + 1     # Adding 1 passenger for themselves"
   ]
  },
  {
   "cell_type": "markdown",
   "id": "4207bbb9-d522-4c9c-bec8-ff1fb7226dd1",
   "metadata": {},
   "source": [
    "#### **3.4 : Drop irrelevant columns**"
   ]
  },
  {
   "cell_type": "code",
   "execution_count": 14,
   "id": "45d6b6b8-af76-4b79-93a2-9548e9944bc8",
   "metadata": {},
   "outputs": [],
   "source": [
    "# Drop unnecessary columns\n",
    "train = train.drop(columns = ['Name', 'PassengerId'])"
   ]
  },
  {
   "cell_type": "markdown",
   "id": "136f7b5a-256f-4af6-b35e-260fd904629a",
   "metadata": {},
   "source": [
    "### **Step 4 : Preparing features and target for modeling**\n",
    "##### **- Preparing the data for machine learning by separating the features (X) and target variable (y)**"
   ]
  },
  {
   "cell_type": "code",
   "execution_count": 16,
   "id": "ffd11559-61b3-4ec7-9b2a-2129ca0d2f54",
   "metadata": {},
   "outputs": [],
   "source": [
    "# Define the features (X) and target  (y)\n",
    "X = train.drop(columns = ['Survived', 'Ticket'])\n",
    "y = train['Survived']"
   ]
  },
  {
   "cell_type": "markdown",
   "id": "772d55be-bd7b-42f2-979b-053bb9884b3e",
   "metadata": {},
   "source": [
    "### **Step 5 : Train-Test Split**\n",
    "##### **- Split dataset into training and validation sets. This is crucial for evaluating the model performance.**"
   ]
  },
  {
   "cell_type": "code",
   "execution_count": 18,
   "id": "c30ae21d-d4ef-4c07-81df-1d898c415bd2",
   "metadata": {},
   "outputs": [],
   "source": [
    "from sklearn.model_selection import train_test_split\n",
    "\n",
    "# Split the data into train and test sets\n",
    "X_train, X_val, y_train, y_val = train_test_split(X, y, test_size = 0.2, random_state = 42)"
   ]
  },
  {
   "cell_type": "markdown",
   "id": "ab4cc1b1-27e9-4bc3-9b4f-72e457035b0b",
   "metadata": {},
   "source": [
    "### **Step 6 : Model Training (Logistic Regression)**"
   ]
  },
  {
   "cell_type": "code",
   "execution_count": 20,
   "id": "318abc83-3b11-4fe9-976d-8efea11a8586",
   "metadata": {},
   "outputs": [
    {
     "name": "stdout",
     "output_type": "stream",
     "text": [
      "Accuracy :  0.8100558659217877\n",
      "\n",
      "Confusion Matrix : \n",
      " [[90 15]\n",
      " [19 55]]\n",
      "\n",
      "Classification Report : \n",
      "               precision    recall  f1-score   support\n",
      "\n",
      "           0       0.83      0.86      0.84       105\n",
      "           1       0.79      0.74      0.76        74\n",
      "\n",
      "    accuracy                           0.81       179\n",
      "   macro avg       0.81      0.80      0.80       179\n",
      "weighted avg       0.81      0.81      0.81       179\n",
      "\n"
     ]
    }
   ],
   "source": [
    "from sklearn.linear_model import LogisticRegression\n",
    "from sklearn.metrics import accuracy_score, classification_report, confusion_matrix\n",
    "\n",
    "# Initialize and Train Logistic regression model \n",
    "model = LogisticRegression(max_iter = 1000)\n",
    "model.fit(X_train, y_train)\n",
    "\n",
    "# Predict on the validation set\n",
    "y_pred = model.predict(X_val)\n",
    "\n",
    "# Evaluate the model's accuracy\n",
    "print(\"Accuracy : \", accuracy_score(y_val, y_pred))\n",
    "print(\"\\nConfusion Matrix : \\n\", confusion_matrix(y_val, y_pred))\n",
    "print(\"\\nClassification Report : \\n\", classification_report(y_val, y_pred))"
   ]
  },
  {
   "cell_type": "markdown",
   "id": "743a9d95-5bf8-409b-b131-97fe5df19497",
   "metadata": {},
   "source": [
    "##### **- Model accuracy : 81 %, indicating good overall performance**\n",
    "##### **- Higher precision and recall for class 0 (not survived) suggests the model predicts non-survivors better that suvivors**"
   ]
  },
  {
   "cell_type": "markdown",
   "id": "66277487-ec9a-492d-886a-802cb0c42f5e",
   "metadata": {},
   "source": [
    "### **Step 7 : Feature Importance (Coefficients)**\n",
    "##### **- We can view these to understand which features are important for survival prediction.**"
   ]
  },
  {
   "cell_type": "code",
   "execution_count": 23,
   "id": "972af8ec-aa1b-45c8-abd1-5ab425c11744",
   "metadata": {},
   "outputs": [
    {
     "name": "stdout",
     "output_type": "stream",
     "text": [
      "      Feature  Coefficient\n",
      "1         Sex    -2.591647\n",
      "0      Pclass    -0.940418\n",
      "7  Embarked_S    -0.405492\n",
      "3       SibSp    -0.160409\n",
      "8  FamilySize    -0.137737\n",
      "6  Embarked_Q    -0.092253\n",
      "2         Age    -0.031372\n",
      "4       Parch     0.024617\n",
      "5        Fare     0.002565\n"
     ]
    }
   ],
   "source": [
    "# Create a Dataframe to view feature names and their coefficients\n",
    "feature_importance = pd.DataFrame({\n",
    "    'Feature' : X_train.columns, \n",
    "    'Coefficient' : model.coef_[0]\n",
    "})\n",
    "\n",
    "\n",
    "# Sort by absolute coefficient value to see most impactful features\n",
    "feature_importance['AbsCoefficient'] = feature_importance['Coefficient'].abs()\n",
    "feature_importance = feature_importance.sort_values(by = 'AbsCoefficient', ascending = False)\n",
    "\n",
    "# Drop the temporary column used for sorting\n",
    "feature_importance = feature_importance.drop(columns = 'AbsCoefficient')\n",
    "\n",
    "# Display the feature importance\n",
    "print(feature_importance)"
   ]
  },
  {
   "cell_type": "markdown",
   "id": "803e7fe2-168d-4058-be36-fea5e90b458f",
   "metadata": {},
   "source": [
    "#### **- Visual Representation**"
   ]
  },
  {
   "cell_type": "code",
   "execution_count": 25,
   "id": "3ceb7ddf-25d0-4cca-9215-68f440cfb994",
   "metadata": {},
   "outputs": [
    {
     "data": {
      "image/png": "[encoded data removed]",
      "text/plain": [
       "<Figure size 1200x600 with 1 Axes>"
      ]
     },
     "metadata": {},
     "output_type": "display_data"
    }
   ],
   "source": [
    "import matplotlib.pyplot as plt\n",
    "import seaborn as sns \n",
    "\n",
    "coeff_df = feature_importance.copy()\n",
    "coeff_df = coeff_df.reindex(coeff_df.Coefficient.abs().sort_values(ascending = False).index)\n",
    "\n",
    "# Plot\n",
    "plt.figure(figsize = (12, 6))\n",
    "sns.barplot(data = coeff_df, x = 'Coefficient', y = 'Feature',hue = 'Feature', dodge = False, palette = 'coolwarm', legend = False)\n",
    "plt.title(\"Feature Importance (Logistic Regression Coefficients)\", fontsize = 14)\n",
    "plt.xlabel(\"Coefficient Value\")\n",
    "plt.ylabel(\"Feature\")\n",
    "plt.axvline(0, color = 'black', linestyle = '--')\n",
    "plt.tight_layout()\n",
    "plt.show()"
   ]
  },
  {
   "cell_type": "markdown",
   "id": "4099735a-f04c-4dde-a7bd-9a94dc840c5b",
   "metadata": {},
   "source": [
    "##### **- Sex has the strongest negative coefficient, indicating that being male (coded as 1) significantly decreases the probability survival.**\n",
    "##### **- Pclass and Embarked_S also negatively impact survival, suggesting passengers in lower classes and those who embarked from Southampton had lower chances of survival.**"
   ]
  },
  {
   "cell_type": "markdown",
   "id": "06e113e9-b5a8-44cd-8649-7110e5a312c1",
   "metadata": {},
   "source": [
    "### **Step 8 : Correlation Heatmap (Exploratory Visualization of Numeric Features)**\n",
    "##### **- Analyze the linear relationships between numerical variables in the dataset using a correlation matrix and heatmap**"
   ]
  },
  {
   "cell_type": "code",
   "execution_count": 28,
   "id": "625971e2-1f96-4707-add0-67bca746a698",
   "metadata": {},
   "outputs": [
    {
     "data": {
      "image/png": "[encoded data removed]",
      "text/plain": [
       "<Figure size 1000x600 with 2 Axes>"
      ]
     },
     "metadata": {},
     "output_type": "display_data"
    }
   ],
   "source": [
    "# Select only numerical columns for correlation\n",
    "numeric_features = train.select_dtypes(include = ['int64', 'float64'])\n",
    "\n",
    "# Compute correlation matrix \n",
    "corr_matrix = numeric_features.corr()\n",
    "\n",
    "# Set plot size\n",
    "plt.figure(figsize = (10, 6))\n",
    "\n",
    "# Plot heatmap\n",
    "sns.heatmap(corr_matrix, annot = True, cmap = 'coolwarm', fmt = \".2f\", linewidths = 0.5)\n",
    "plt.title(\"Correlation Heatmap of Numeric Features\", fontsize = 14)\n",
    "plt.tight_layout()\n",
    "plt.show()"
   ]
  },
  {
   "cell_type": "markdown",
   "id": "374aef0d-ce37-453d-939f-0f8a731d12f0",
   "metadata": {},
   "source": [
    "##### **- Sex is negatively correlated with survival -> Females had higher survival chances.**\n",
    "##### **- Higher Fare slightly increases survival -> Wealthier passengers were more likely to survive.**"
   ]
  },
  {
   "cell_type": "markdown",
   "id": "ed65bb52-5d6a-4670-b84c-4d8b343ebfba",
   "metadata": {},
   "source": [
    "### **Step 9 : Final Mode Evaluation / Cross-Validation Score**\n",
    "##### **- To ensure that the model is robust and generalizes well**"
   ]
  },
  {
   "cell_type": "code",
   "execution_count": 31,
   "id": "a794e683-e2b1-4111-8ccb-63d2b54954f4",
   "metadata": {},
   "outputs": [
    {
     "name": "stdout",
     "output_type": "stream",
     "text": [
      "Cross-Validation Accuracy Scores :  [0.78212291 0.78089888 0.78651685 0.76966292 0.8258427 ]\n",
      "Average Cross-Validation Accuracy :  0.789008850668508\n"
     ]
    }
   ],
   "source": [
    "from sklearn.model_selection import cross_val_score\n",
    "\n",
    "# Perform 5-fold cross-validation\n",
    "cv_scores = cross_val_score(model, X, y, cv = 5, scoring = 'accuracy')\n",
    "\n",
    "# Print results\n",
    "print(\"Cross-Validation Accuracy Scores : \", cv_scores)\n",
    "print(\"Average Cross-Validation Accuracy : \", cv_scores.mean()) "
   ]
  },
  {
   "cell_type": "markdown",
   "id": "09e8ec2d-a808-47a9-90d3-7f2b7975df91",
   "metadata": {},
   "source": [
    "##### **- The model performs consistently across different folds, with accuracies ranging between ~77% to ~83%.**\n",
    "##### **- The average accuracy of ~78.9% indicates that your logistic regression model is fairly reliable and generalizes well to unseen data.**"
   ]
  },
  {
   "cell_type": "markdown",
   "id": "41988591-0bf1-40fe-b615-639d55d515dd",
   "metadata": {},
   "source": [
    "### **Step 10 : Predictions on the Test set**"
   ]
  },
  {
   "cell_type": "code",
   "execution_count": 34,
   "id": "42680fc0-b4db-4f49-b34b-8e82facc4ad8",
   "metadata": {},
   "outputs": [
    {
     "name": "stdout",
     "output_type": "stream",
     "text": [
      "   PassengerId  Survived\n",
      "0          892         0\n",
      "1          893         0\n",
      "2          894         0\n",
      "3          895         0\n",
      "4          896         1\n"
     ]
    }
   ],
   "source": [
    "# Using 'test' dataset\n",
    "\n",
    "# Preprocessing steps for the test dataset (same as train data preprocessing)\n",
    "test['Age'] = test['Age'].fillna(test['Age'].mean())\n",
    "test['Fare'] = test['Fare'].fillna(test['Age'].mean())\n",
    "test['Embarked'] = test['Embarked'].fillna(test['Embarked'].mode()[0])\n",
    "\n",
    "# Drop 'Cabin' as it's mostly missing\n",
    "test = test.drop(columns = ['Cabin'])\n",
    "\n",
    "# Convert 'Sex' into a numeric variable (1 for male, 0 for female)\n",
    "test['Sex'] = test['Sex'].map({'male' : 1, 'female' : 0})\n",
    "\n",
    "# One-hot encode 'Embarked' (same as train)\n",
    "test = pd.get_dummies(test, columns = ['Embarked'], drop_first = True)\n",
    "\n",
    "# Create 'FamilySize' feature (same as train)\n",
    "test['FamilySize'] = test['SibSp'] + test['Parch'] + 1\n",
    "\n",
    "# Ensure all expected columns are present (sometimes Embarked_Q or S might be missing)\n",
    "for col in ['Embarked_Q', 'Embarked_S'] :\n",
    "    if col not in test.columns :\n",
    "        test[col] = 0\n",
    "\n",
    "# Reorder columns to match X_train\n",
    "X_test = test[X_train.columns]     # this ensures exact match of training features\n",
    "\n",
    "# Make predictions using the trained model \n",
    "y_test_pred = model.predict(X_test)\n",
    "\n",
    "# Save Predictions to a DataFrame and CSV\n",
    "output = pd.DataFrame({'PassengerId' : test['PassengerId'], 'Survived' : y_test_pred})\n",
    "output.to_csv('predictions.csv', index = False)\n",
    "\n",
    "# View the first few rows of the predictions\n",
    "print(output.head())"
   ]
  },
  {
   "cell_type": "markdown",
   "id": "fb81915f-92bb-41b6-bebd-126ea1bb316a",
   "metadata": {},
   "source": [
    "##### **- The model predicts both survival and non-survival cases, indicating learned distinctions in the data.**\n",
    "##### **- Among the first 5 passengers, 1 are predicted to survive, 4 not to survive.**"
   ]
  },
  {
   "cell_type": "code",
   "execution_count": null,
   "id": "2fd86046-5d65-4e9b-8056-59fed11d46a6",
   "metadata": {},
   "outputs": [],
   "source": []
  }
 ],
 "metadata": {
  "kernelspec": {
   "display_name": "Python 3 (ipykernel)",
   "language": "python",
   "name": "python3"
  },
  "language_info": {
   "codemirror_mode": {
    "name": "ipython",
    "version": 3
   },
   "file_extension": ".py",
   "mimetype": "text/x-python",
   "name": "python",
   "nbconvert_exporter": "python",
   "pygments_lexer": "ipython3",
   "version": "3.12.4"
  }
 },
 "nbformat": 4,
 "nbformat_minor": 5
}
